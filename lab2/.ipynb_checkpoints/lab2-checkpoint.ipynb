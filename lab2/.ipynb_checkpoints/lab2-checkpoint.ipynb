{
 "cells": [
  {
   "cell_type": "code",
   "execution_count": 80,
   "id": "142bbf05",
   "metadata": {},
   "outputs": [],
   "source": [
    "import math\n",
    "import networkx as nx\n",
    "import  matplotlib.pyplot as plt"
   ]
  },
  {
   "cell_type": "code",
   "execution_count": 138,
   "id": "b8361c6a",
   "metadata": {},
   "outputs": [],
   "source": [
    "def get_down_left_point(points):\n",
    "    points = sorted(points, key=lambda lst: lst[1])\n",
    "    down_left_point = points[0]\n",
    "    for point in points:\n",
    "        if point[1] != down_left_point[1]:\n",
    "            break\n",
    "        if point[0] < down_left_point[0]:\n",
    "            down_left_point = point\n",
    "    return down_left_point"
   ]
  },
  {
   "cell_type": "code",
   "execution_count": 173,
   "id": "8a9c33a1",
   "metadata": {},
   "outputs": [],
   "source": [
    "def angle(point_1, point_2):\n",
    "    delta_x = (point_2[0] - point_1[0])\n",
    "    delta_y = (point_2[1] - point_1[1])\n",
    "\n",
    "    tan = delta_y / (delta_x + 1e-10)\n",
    "    arctan = math.atan(tan)\n",
    "    if arctan < 0:\n",
    "        arctan += math.pi\n",
    "    return arctan"
   ]
  },
  {
   "cell_type": "code",
   "execution_count": 174,
   "id": "a4a9fc74",
   "metadata": {},
   "outputs": [],
   "source": [
    "def get_edge(base_point, sort_angle_points):\n",
    "    first_space, second_space = [], []\n",
    "    second = False\n",
    "    white, black = 0, 0\n",
    "    for point in sort_angle_points:\n",
    "        if point[2] == base_point[2]:\n",
    "            black += 1\n",
    "            print('b', point[-1])\n",
    "        else:\n",
    "            if white == black:\n",
    "                if not second:\n",
    "                    print('puk', point)\n",
    "                    white_point = point\n",
    "                    second = True\n",
    "            else:\n",
    "                print('w', point[-1])\n",
    "                white += 1\n",
    "        if second:\n",
    "            second_space.append(point)\n",
    "        else:\n",
    "            first_space.append(point)\n",
    "    return white_point, first_space, second_space[1:]"
   ]
  },
  {
   "cell_type": "code",
   "execution_count": 175,
   "id": "627293d5",
   "metadata": {},
   "outputs": [],
   "source": [
    "def make_pairs(points):\n",
    "    base_point = get_down_left_point(points)\n",
    "    points.remove(base_point)\n",
    "    points = sorted(points, key=lambda p: angle(base_point, p))\n",
    "    white_point, first_space, second_space = get_edge(base_point, points)\n",
    "    res = [(base_point, white_point)]\n",
    "    if len(first_space) > 0:\n",
    "        res += make_pairs(first_space)\n",
    "    if len(second_space) > 0:\n",
    "        res += make_pairs(second_space)\n",
    "    return res"
   ]
  },
  {
   "cell_type": "code",
   "execution_count": 185,
   "id": "5bb912a2",
   "metadata": {},
   "outputs": [],
   "source": [
    "def plot_points(pairs, file):\n",
    "    G = nx.Graph()\n",
    "\n",
    "    for pair in pairs:\n",
    "        black = pair[0] if pair[0][2] == 1 else pair[1]\n",
    "        white = pair[1] if pair[0][2] == 1 else pair[0]\n",
    "        black_node = str(black[-1]) + ' b'\n",
    "        G.add_node(black_node, pos=black[:2])\n",
    "        white_node = str(white[-1]) + ' w'\n",
    "        G.add_node(white_node, pos=white[:2])\n",
    "        G.add_edge(black_node, white_node)\n",
    "\n",
    "    plt.figure(figsize=(5, 5))\n",
    "    plt.title(file)\n",
    "    pos = nx.circular_layout(G)\n",
    "    options = {\n",
    "        'node_size': 500,\n",
    "        'font_size' : 10\n",
    "    }\n",
    "\n",
    "    color_map = []\n",
    "    for node in G:\n",
    "        if node[-1] == 'b':\n",
    "            color_map.append('gray')\n",
    "        else:\n",
    "            color_map.append('white')\n",
    "\n",
    "    nx.draw(G, nx.get_node_attributes(G, 'pos'), node_color=color_map, with_labels=True,  **options)\n",
    "\n",
    "    ax = plt.gca()\n",
    "    ax.collections[0].set_edgecolor(\"#000000\")\n",
    "    #plt.show()"
   ]
  },
  {
   "cell_type": "code",
   "execution_count": 187,
   "id": "fbf6957e",
   "metadata": {},
   "outputs": [
    {
     "name": "stdout",
     "output_type": "stream",
     "text": [
      "[214, 260, 1, 1] -0.5008453289934132\n",
      "[224, 113, 1, 2] -0.10060556664553204\n",
      "[307, 176, 1, 3] -0.3856533904844368\n",
      "[672, 98, 0, 5] 0.12904979573415923\n",
      "[837, 115, 0, 6] 0.11436365342286577\n",
      "tut [541, 81, 0, 4]\n",
      "b 6\n",
      "b 5\n",
      "w 1\n",
      "w 3\n",
      "puk [224, 113, 1, 2]\n",
      "[837, 115, 0, 6] 0.10266804361652264\n",
      "[214, 260, 1, 1] -0.3399777022665487\n",
      "[307, 176, 1, 3] -0.21053195603626518\n",
      "tut [672, 98, 0, 5]\n",
      "b 6\n",
      "w 1\n",
      "puk [307, 176, 1, 3]\n",
      "[214, 260, 1, 1] -0.22867369938424345\n",
      "tut [837, 115, 0, 6]\n",
      "puk [214, 260, 1, 1]\n"
     ]
    },
    {
     "ename": "TypeError",
     "evalue": "'_io.TextIOWrapper' object is not subscriptable",
     "output_type": "error",
     "traceback": [
      "\u001b[0;31m---------------------------------------------------------------------------\u001b[0m",
      "\u001b[0;31mTypeError\u001b[0m                                 Traceback (most recent call last)",
      "Cell \u001b[0;32mIn[187], line 17\u001b[0m\n\u001b[1;32m     15\u001b[0m \u001b[38;5;28;01mfor\u001b[39;00m pair \u001b[38;5;129;01min\u001b[39;00m pairs:\n\u001b[1;32m     16\u001b[0m     leng \u001b[38;5;241m+\u001b[39m\u001b[38;5;241m=\u001b[39m ((pair[\u001b[38;5;241m0\u001b[39m][\u001b[38;5;241m0\u001b[39m] \u001b[38;5;241m-\u001b[39m pair[\u001b[38;5;241m1\u001b[39m][\u001b[38;5;241m0\u001b[39m])\u001b[38;5;241m*\u001b[39m\u001b[38;5;241m*\u001b[39m\u001b[38;5;241m2\u001b[39m \u001b[38;5;241m+\u001b[39m (pair[\u001b[38;5;241m0\u001b[39m][\u001b[38;5;241m1\u001b[39m] \u001b[38;5;241m-\u001b[39m pair[\u001b[38;5;241m1\u001b[39m][\u001b[38;5;241m1\u001b[39m])\u001b[38;5;241m*\u001b[39m\u001b[38;5;241m*\u001b[39m\u001b[38;5;241m2\u001b[39m)\u001b[38;5;241m*\u001b[39m\u001b[38;5;241m*\u001b[39m(\u001b[38;5;241m0.5\u001b[39m)\n\u001b[0;32m---> 17\u001b[0m \u001b[38;5;28;01mwith\u001b[39;00m \u001b[38;5;28mopen\u001b[39m(file[:\u001b[38;5;241m-\u001b[39m\u001b[38;5;241m3\u001b[39m] \u001b[38;5;241m+\u001b[39m \u001b[38;5;124m'\u001b[39m\u001b[38;5;124m_res.txt\u001b[39m\u001b[38;5;124m'\u001b[39m, \u001b[38;5;124m'\u001b[39m\u001b[38;5;124mw\u001b[39m\u001b[38;5;124m'\u001b[39m) \u001b[38;5;28;01mas\u001b[39;00m f:\n\u001b[1;32m     18\u001b[0m     f\u001b[38;5;241m.\u001b[39mwrite(\u001b[38;5;28mstr\u001b[39m(\u001b[38;5;28mlen\u001b[39m(pairs)) \u001b[38;5;241m+\u001b[39m \u001b[38;5;124m'\u001b[39m\u001b[38;5;130;01m\\n\u001b[39;00m\u001b[38;5;124m'\u001b[39m)\n\u001b[1;32m     19\u001b[0m     f\u001b[38;5;241m.\u001b[39mwrite(\u001b[38;5;28mstr\u001b[39m(leng \u001b[38;5;241m/\u001b[39m\u001b[38;5;241m/\u001b[39m \u001b[38;5;28mlen\u001b[39m(pairs)) \u001b[38;5;241m+\u001b[39m \u001b[38;5;124m'\u001b[39m\u001b[38;5;130;01m\\n\u001b[39;00m\u001b[38;5;124m'\u001b[39m)\n",
      "\u001b[0;31mTypeError\u001b[0m: '_io.TextIOWrapper' object is not subscriptable"
     ]
    }
   ],
   "source": [
    "files = ['3.txt', '3-2.txt', '33-1.txt', '33-2.txt', '333.txt', '3333_float.txt']\n",
    "\n",
    "pairs_all = []\n",
    "for file in files:\n",
    "    f = open(file)\n",
    "    n = int(f.readline())\n",
    "    points = []\n",
    "    for i in range(n):\n",
    "        idx, x, y, clas = f.readline().split()\n",
    "        points.append([int(x), int(y), int(clas), int(idx)])\n",
    "\n",
    "    pairs = make_pairs(points)\n",
    "    pairs_all.append(pairs)\n",
    "    leng = 0\n",
    "    for pair in pairs:\n",
    "        leng += ((pair[0][0] - pair[1][0])**2 + (pair[0][1] - pair[1][1])**2)**(0.5)\n",
    "    with open(file[:-3] + '_res.txt', 'w') as f:\n",
    "        f.write(str(len(pairs)) + '\\n')\n",
    "        f.write(str(leng // len(pairs)) + '\\n')\n",
    "        for pair in pairs:\n",
    "            f.write(str(pair[0][-1]) + ' ' + str(pair[1][-1]) + '\\n')"
   ]
  },
  {
   "cell_type": "code",
   "execution_count": 179,
   "id": "c78bbf82",
   "metadata": {},
   "outputs": [
    {
     "data": {
      "text/plain": [
       "[([541, 81, 0, 4], [224, 113, 1, 2]),\n",
       " ([672, 98, 0, 5], [307, 176, 1, 3]),\n",
       " ([837, 115, 0, 6], [214, 260, 1, 1])]"
      ]
     },
     "execution_count": 179,
     "metadata": {},
     "output_type": "execute_result"
    }
   ],
   "source": [
    "pairs"
   ]
  },
  {
   "cell_type": "code",
   "execution_count": 186,
   "id": "2996ae13",
   "metadata": {},
   "outputs": [
    {
     "data": {
      "image/png": "[encoded data removed]",
      "text/plain": [
       "<Figure size 500x500 with 1 Axes>"
      ]
     },
     "metadata": {},
     "output_type": "display_data"
    }
   ],
   "source": [
    "plot_points(pairs, '3-2.txt')\n",
    "plt.savefig('3-2_res.pdf')"
   ]
  },
  {
   "cell_type": "code",
   "execution_count": null,
   "id": "ea46ee68",
   "metadata": {},
   "outputs": [],
   "source": []
  }
 ],
 "metadata": {
  "kernelspec": {
   "display_name": "Python 3 (ipykernel)",
   "language": "python",
   "name": "python3"
  },
  "language_info": {
   "codemirror_mode": {
    "name": "ipython",
    "version": 3
   },
   "file_extension": ".py",
   "mimetype": "text/x-python",
   "name": "python",
   "nbconvert_exporter": "python",
   "pygments_lexer": "ipython3",
   "version": "3.11.5"
  }
 },
 "nbformat": 4,
 "nbformat_minor": 5
}
